{
 "cells": [
  {
   "cell_type": "markdown",
   "metadata": {
    "id": "pn6Z-EQkmVos",
    "papermill": {
     "duration": 0.031753,
     "end_time": "2021-01-29T04:46:59.020267",
     "exception": false,
     "start_time": "2021-01-29T04:46:58.988514",
     "status": "completed"
    },
    "tags": []
   },
   "source": [
    "# <center>FLIGHT DELAY PREDICTIONS</center>"
   ]
  },
  {
   "cell_type": "markdown",
   "metadata": {
    "papermill": {
     "duration": 0.030949,
     "end_time": "2021-01-29T04:46:59.082308",
     "exception": false,
     "start_time": "2021-01-29T04:46:59.051359",
     "status": "completed"
    },
    "tags": []
   },
   "source": [
    "<center><img src=\"https://www.webintravel.com/wp-content/uploads/2020/05/den-belitsky-GettyImages-854673918-scaled.jpg\" width=\"700\"></center>"
   ]
  },
  {
   "cell_type": "markdown",
   "metadata": {
    "papermill": {
     "duration": 0.03019,
     "end_time": "2021-01-29T04:46:59.143347",
     "exception": false,
     "start_time": "2021-01-29T04:46:59.113157",
     "status": "completed"
    },
    "tags": []
   },
   "source": [
    "### Importing Libraries"
   ]
  },
  {
   "cell_type": "code",
   "execution_count": 23,
   "metadata": {
    "execution": {
     "iopub.execute_input": "2021-01-29T04:46:59.208638Z",
     "iopub.status.busy": "2021-01-29T04:46:59.207808Z",
     "iopub.status.idle": "2021-01-29T04:47:00.600754Z",
     "shell.execute_reply": "2021-01-29T04:47:00.601432Z"
    },
    "id": "B8VRPIqIp8_V",
    "papermill": {
     "duration": 1.427466,
     "end_time": "2021-01-29T04:47:00.601644",
     "exception": false,
     "start_time": "2021-01-29T04:46:59.174178",
     "status": "completed"
    },
    "tags": []
   },
   "outputs": [],
   "source": [
    "import pandas as pd\n",
    "import seaborn as sb\n",
    "from sklearn.model_selection import train_test_split\n",
    "from sklearn.preprocessing import StandardScaler\n",
    "from sklearn.tree import DecisionTreeClassifier\n",
    "from sklearn.metrics import roc_auc_score"
   ]
  },
  {
   "cell_type": "markdown",
   "metadata": {
    "papermill": {
     "duration": 0.030271,
     "end_time": "2021-01-29T04:47:00.663224",
     "exception": false,
     "start_time": "2021-01-29T04:47:00.632953",
     "status": "completed"
    },
    "tags": []
   },
   "source": [
    "### Getting our Data"
   ]
  },
  {
   "cell_type": "code",
   "execution_count": 24,
   "metadata": {
    "execution": {
     "iopub.execute_input": "2021-01-29T04:47:00.728587Z",
     "iopub.status.busy": "2021-01-29T04:47:00.727793Z",
     "iopub.status.idle": "2021-01-29T04:47:22.938955Z",
     "shell.execute_reply": "2021-01-29T04:47:22.939503Z"
    },
    "id": "bX5VWtiDnlR8",
    "outputId": "29557072-6e17-4163-9fa9-7a2601325286",
    "papermill": {
     "duration": 22.245619,
     "end_time": "2021-01-29T04:47:22.939642",
     "exception": false,
     "start_time": "2021-01-29T04:47:00.694023",
     "status": "completed"
    },
    "tags": []
   },
   "outputs": [
    {
     "name": "stderr",
     "output_type": "stream",
     "text": [
      "/var/folders/52/14hdcd_d3451gmf6wbwp_lsc0000gn/T/ipykernel_1916/1842471722.py:1: DtypeWarning: Columns (7,8) have mixed types. Specify dtype option on import or set low_memory=False.\n",
      "  flights = pd.read_csv('./input/flights.csv')\n"
     ]
    },
    {
     "data": {
      "text/html": [
       "<div>\n",
       "<style scoped>\n",
       "    .dataframe tbody tr th:only-of-type {\n",
       "        vertical-align: middle;\n",
       "    }\n",
       "\n",
       "    .dataframe tbody tr th {\n",
       "        vertical-align: top;\n",
       "    }\n",
       "\n",
       "    .dataframe thead th {\n",
       "        text-align: right;\n",
       "    }\n",
       "</style>\n",
       "<table border=\"1\" class=\"dataframe\">\n",
       "  <thead>\n",
       "    <tr style=\"text-align: right;\">\n",
       "      <th></th>\n",
       "      <th>YEAR</th>\n",
       "      <th>MONTH</th>\n",
       "      <th>DAY</th>\n",
       "      <th>DAY_OF_WEEK</th>\n",
       "      <th>AIRLINE</th>\n",
       "      <th>FLIGHT_NUMBER</th>\n",
       "      <th>TAIL_NUMBER</th>\n",
       "      <th>ORIGIN_AIRPORT</th>\n",
       "      <th>DESTINATION_AIRPORT</th>\n",
       "      <th>SCHEDULED_DEPARTURE</th>\n",
       "      <th>...</th>\n",
       "      <th>ARRIVAL_TIME</th>\n",
       "      <th>ARRIVAL_DELAY</th>\n",
       "      <th>DIVERTED</th>\n",
       "      <th>CANCELLED</th>\n",
       "      <th>CANCELLATION_REASON</th>\n",
       "      <th>AIR_SYSTEM_DELAY</th>\n",
       "      <th>SECURITY_DELAY</th>\n",
       "      <th>AIRLINE_DELAY</th>\n",
       "      <th>LATE_AIRCRAFT_DELAY</th>\n",
       "      <th>WEATHER_DELAY</th>\n",
       "    </tr>\n",
       "  </thead>\n",
       "  <tbody>\n",
       "    <tr>\n",
       "      <th>0</th>\n",
       "      <td>2015</td>\n",
       "      <td>1</td>\n",
       "      <td>1</td>\n",
       "      <td>4</td>\n",
       "      <td>AS</td>\n",
       "      <td>98</td>\n",
       "      <td>N407AS</td>\n",
       "      <td>ANC</td>\n",
       "      <td>SEA</td>\n",
       "      <td>5</td>\n",
       "      <td>...</td>\n",
       "      <td>408.0</td>\n",
       "      <td>-22.0</td>\n",
       "      <td>0</td>\n",
       "      <td>0</td>\n",
       "      <td>NaN</td>\n",
       "      <td>NaN</td>\n",
       "      <td>NaN</td>\n",
       "      <td>NaN</td>\n",
       "      <td>NaN</td>\n",
       "      <td>NaN</td>\n",
       "    </tr>\n",
       "    <tr>\n",
       "      <th>1</th>\n",
       "      <td>2015</td>\n",
       "      <td>1</td>\n",
       "      <td>1</td>\n",
       "      <td>4</td>\n",
       "      <td>AA</td>\n",
       "      <td>2336</td>\n",
       "      <td>N3KUAA</td>\n",
       "      <td>LAX</td>\n",
       "      <td>PBI</td>\n",
       "      <td>10</td>\n",
       "      <td>...</td>\n",
       "      <td>741.0</td>\n",
       "      <td>-9.0</td>\n",
       "      <td>0</td>\n",
       "      <td>0</td>\n",
       "      <td>NaN</td>\n",
       "      <td>NaN</td>\n",
       "      <td>NaN</td>\n",
       "      <td>NaN</td>\n",
       "      <td>NaN</td>\n",
       "      <td>NaN</td>\n",
       "    </tr>\n",
       "    <tr>\n",
       "      <th>2</th>\n",
       "      <td>2015</td>\n",
       "      <td>1</td>\n",
       "      <td>1</td>\n",
       "      <td>4</td>\n",
       "      <td>US</td>\n",
       "      <td>840</td>\n",
       "      <td>N171US</td>\n",
       "      <td>SFO</td>\n",
       "      <td>CLT</td>\n",
       "      <td>20</td>\n",
       "      <td>...</td>\n",
       "      <td>811.0</td>\n",
       "      <td>5.0</td>\n",
       "      <td>0</td>\n",
       "      <td>0</td>\n",
       "      <td>NaN</td>\n",
       "      <td>NaN</td>\n",
       "      <td>NaN</td>\n",
       "      <td>NaN</td>\n",
       "      <td>NaN</td>\n",
       "      <td>NaN</td>\n",
       "    </tr>\n",
       "    <tr>\n",
       "      <th>3</th>\n",
       "      <td>2015</td>\n",
       "      <td>1</td>\n",
       "      <td>1</td>\n",
       "      <td>4</td>\n",
       "      <td>AA</td>\n",
       "      <td>258</td>\n",
       "      <td>N3HYAA</td>\n",
       "      <td>LAX</td>\n",
       "      <td>MIA</td>\n",
       "      <td>20</td>\n",
       "      <td>...</td>\n",
       "      <td>756.0</td>\n",
       "      <td>-9.0</td>\n",
       "      <td>0</td>\n",
       "      <td>0</td>\n",
       "      <td>NaN</td>\n",
       "      <td>NaN</td>\n",
       "      <td>NaN</td>\n",
       "      <td>NaN</td>\n",
       "      <td>NaN</td>\n",
       "      <td>NaN</td>\n",
       "    </tr>\n",
       "    <tr>\n",
       "      <th>4</th>\n",
       "      <td>2015</td>\n",
       "      <td>1</td>\n",
       "      <td>1</td>\n",
       "      <td>4</td>\n",
       "      <td>AS</td>\n",
       "      <td>135</td>\n",
       "      <td>N527AS</td>\n",
       "      <td>SEA</td>\n",
       "      <td>ANC</td>\n",
       "      <td>25</td>\n",
       "      <td>...</td>\n",
       "      <td>259.0</td>\n",
       "      <td>-21.0</td>\n",
       "      <td>0</td>\n",
       "      <td>0</td>\n",
       "      <td>NaN</td>\n",
       "      <td>NaN</td>\n",
       "      <td>NaN</td>\n",
       "      <td>NaN</td>\n",
       "      <td>NaN</td>\n",
       "      <td>NaN</td>\n",
       "    </tr>\n",
       "    <tr>\n",
       "      <th>...</th>\n",
       "      <td>...</td>\n",
       "      <td>...</td>\n",
       "      <td>...</td>\n",
       "      <td>...</td>\n",
       "      <td>...</td>\n",
       "      <td>...</td>\n",
       "      <td>...</td>\n",
       "      <td>...</td>\n",
       "      <td>...</td>\n",
       "      <td>...</td>\n",
       "      <td>...</td>\n",
       "      <td>...</td>\n",
       "      <td>...</td>\n",
       "      <td>...</td>\n",
       "      <td>...</td>\n",
       "      <td>...</td>\n",
       "      <td>...</td>\n",
       "      <td>...</td>\n",
       "      <td>...</td>\n",
       "      <td>...</td>\n",
       "      <td>...</td>\n",
       "    </tr>\n",
       "    <tr>\n",
       "      <th>5819074</th>\n",
       "      <td>2015</td>\n",
       "      <td>12</td>\n",
       "      <td>31</td>\n",
       "      <td>4</td>\n",
       "      <td>B6</td>\n",
       "      <td>688</td>\n",
       "      <td>N657JB</td>\n",
       "      <td>LAX</td>\n",
       "      <td>BOS</td>\n",
       "      <td>2359</td>\n",
       "      <td>...</td>\n",
       "      <td>753.0</td>\n",
       "      <td>-26.0</td>\n",
       "      <td>0</td>\n",
       "      <td>0</td>\n",
       "      <td>NaN</td>\n",
       "      <td>NaN</td>\n",
       "      <td>NaN</td>\n",
       "      <td>NaN</td>\n",
       "      <td>NaN</td>\n",
       "      <td>NaN</td>\n",
       "    </tr>\n",
       "    <tr>\n",
       "      <th>5819075</th>\n",
       "      <td>2015</td>\n",
       "      <td>12</td>\n",
       "      <td>31</td>\n",
       "      <td>4</td>\n",
       "      <td>B6</td>\n",
       "      <td>745</td>\n",
       "      <td>N828JB</td>\n",
       "      <td>JFK</td>\n",
       "      <td>PSE</td>\n",
       "      <td>2359</td>\n",
       "      <td>...</td>\n",
       "      <td>430.0</td>\n",
       "      <td>-16.0</td>\n",
       "      <td>0</td>\n",
       "      <td>0</td>\n",
       "      <td>NaN</td>\n",
       "      <td>NaN</td>\n",
       "      <td>NaN</td>\n",
       "      <td>NaN</td>\n",
       "      <td>NaN</td>\n",
       "      <td>NaN</td>\n",
       "    </tr>\n",
       "    <tr>\n",
       "      <th>5819076</th>\n",
       "      <td>2015</td>\n",
       "      <td>12</td>\n",
       "      <td>31</td>\n",
       "      <td>4</td>\n",
       "      <td>B6</td>\n",
       "      <td>1503</td>\n",
       "      <td>N913JB</td>\n",
       "      <td>JFK</td>\n",
       "      <td>SJU</td>\n",
       "      <td>2359</td>\n",
       "      <td>...</td>\n",
       "      <td>432.0</td>\n",
       "      <td>-8.0</td>\n",
       "      <td>0</td>\n",
       "      <td>0</td>\n",
       "      <td>NaN</td>\n",
       "      <td>NaN</td>\n",
       "      <td>NaN</td>\n",
       "      <td>NaN</td>\n",
       "      <td>NaN</td>\n",
       "      <td>NaN</td>\n",
       "    </tr>\n",
       "    <tr>\n",
       "      <th>5819077</th>\n",
       "      <td>2015</td>\n",
       "      <td>12</td>\n",
       "      <td>31</td>\n",
       "      <td>4</td>\n",
       "      <td>B6</td>\n",
       "      <td>333</td>\n",
       "      <td>N527JB</td>\n",
       "      <td>MCO</td>\n",
       "      <td>SJU</td>\n",
       "      <td>2359</td>\n",
       "      <td>...</td>\n",
       "      <td>330.0</td>\n",
       "      <td>-10.0</td>\n",
       "      <td>0</td>\n",
       "      <td>0</td>\n",
       "      <td>NaN</td>\n",
       "      <td>NaN</td>\n",
       "      <td>NaN</td>\n",
       "      <td>NaN</td>\n",
       "      <td>NaN</td>\n",
       "      <td>NaN</td>\n",
       "    </tr>\n",
       "    <tr>\n",
       "      <th>5819078</th>\n",
       "      <td>2015</td>\n",
       "      <td>12</td>\n",
       "      <td>31</td>\n",
       "      <td>4</td>\n",
       "      <td>B6</td>\n",
       "      <td>839</td>\n",
       "      <td>N534JB</td>\n",
       "      <td>JFK</td>\n",
       "      <td>BQN</td>\n",
       "      <td>2359</td>\n",
       "      <td>...</td>\n",
       "      <td>442.0</td>\n",
       "      <td>2.0</td>\n",
       "      <td>0</td>\n",
       "      <td>0</td>\n",
       "      <td>NaN</td>\n",
       "      <td>NaN</td>\n",
       "      <td>NaN</td>\n",
       "      <td>NaN</td>\n",
       "      <td>NaN</td>\n",
       "      <td>NaN</td>\n",
       "    </tr>\n",
       "  </tbody>\n",
       "</table>\n",
       "<p>5819079 rows × 31 columns</p>\n",
       "</div>"
      ],
      "text/plain": [
       "         YEAR  MONTH  DAY  DAY_OF_WEEK AIRLINE  FLIGHT_NUMBER TAIL_NUMBER  \\\n",
       "0        2015      1    1            4      AS             98      N407AS   \n",
       "1        2015      1    1            4      AA           2336      N3KUAA   \n",
       "2        2015      1    1            4      US            840      N171US   \n",
       "3        2015      1    1            4      AA            258      N3HYAA   \n",
       "4        2015      1    1            4      AS            135      N527AS   \n",
       "...       ...    ...  ...          ...     ...            ...         ...   \n",
       "5819074  2015     12   31            4      B6            688      N657JB   \n",
       "5819075  2015     12   31            4      B6            745      N828JB   \n",
       "5819076  2015     12   31            4      B6           1503      N913JB   \n",
       "5819077  2015     12   31            4      B6            333      N527JB   \n",
       "5819078  2015     12   31            4      B6            839      N534JB   \n",
       "\n",
       "        ORIGIN_AIRPORT DESTINATION_AIRPORT  SCHEDULED_DEPARTURE  ...  \\\n",
       "0                  ANC                 SEA                    5  ...   \n",
       "1                  LAX                 PBI                   10  ...   \n",
       "2                  SFO                 CLT                   20  ...   \n",
       "3                  LAX                 MIA                   20  ...   \n",
       "4                  SEA                 ANC                   25  ...   \n",
       "...                ...                 ...                  ...  ...   \n",
       "5819074            LAX                 BOS                 2359  ...   \n",
       "5819075            JFK                 PSE                 2359  ...   \n",
       "5819076            JFK                 SJU                 2359  ...   \n",
       "5819077            MCO                 SJU                 2359  ...   \n",
       "5819078            JFK                 BQN                 2359  ...   \n",
       "\n",
       "         ARRIVAL_TIME  ARRIVAL_DELAY  DIVERTED  CANCELLED  \\\n",
       "0               408.0          -22.0         0          0   \n",
       "1               741.0           -9.0         0          0   \n",
       "2               811.0            5.0         0          0   \n",
       "3               756.0           -9.0         0          0   \n",
       "4               259.0          -21.0         0          0   \n",
       "...               ...            ...       ...        ...   \n",
       "5819074         753.0          -26.0         0          0   \n",
       "5819075         430.0          -16.0         0          0   \n",
       "5819076         432.0           -8.0         0          0   \n",
       "5819077         330.0          -10.0         0          0   \n",
       "5819078         442.0            2.0         0          0   \n",
       "\n",
       "         CANCELLATION_REASON  AIR_SYSTEM_DELAY  SECURITY_DELAY  AIRLINE_DELAY  \\\n",
       "0                        NaN               NaN             NaN            NaN   \n",
       "1                        NaN               NaN             NaN            NaN   \n",
       "2                        NaN               NaN             NaN            NaN   \n",
       "3                        NaN               NaN             NaN            NaN   \n",
       "4                        NaN               NaN             NaN            NaN   \n",
       "...                      ...               ...             ...            ...   \n",
       "5819074                  NaN               NaN             NaN            NaN   \n",
       "5819075                  NaN               NaN             NaN            NaN   \n",
       "5819076                  NaN               NaN             NaN            NaN   \n",
       "5819077                  NaN               NaN             NaN            NaN   \n",
       "5819078                  NaN               NaN             NaN            NaN   \n",
       "\n",
       "         LATE_AIRCRAFT_DELAY  WEATHER_DELAY  \n",
       "0                        NaN            NaN  \n",
       "1                        NaN            NaN  \n",
       "2                        NaN            NaN  \n",
       "3                        NaN            NaN  \n",
       "4                        NaN            NaN  \n",
       "...                      ...            ...  \n",
       "5819074                  NaN            NaN  \n",
       "5819075                  NaN            NaN  \n",
       "5819076                  NaN            NaN  \n",
       "5819077                  NaN            NaN  \n",
       "5819078                  NaN            NaN  \n",
       "\n",
       "[5819079 rows x 31 columns]"
      ]
     },
     "execution_count": 24,
     "metadata": {},
     "output_type": "execute_result"
    }
   ],
   "source": [
    "flights = pd.read_csv('./input/flights.csv')\n",
    "flights"
   ]
  },
  {
   "cell_type": "code",
   "execution_count": 25,
   "metadata": {
    "execution": {
     "iopub.execute_input": "2021-01-29T04:47:22.988475Z",
     "iopub.status.busy": "2021-01-29T04:47:22.987891Z",
     "iopub.status.idle": "2021-01-29T04:47:22.990193Z",
     "shell.execute_reply": "2021-01-29T04:47:22.990802Z"
    },
    "id": "R7O_ogZ8p7F7",
    "papermill": {
     "duration": 0.029079,
     "end_time": "2021-01-29T04:47:22.990933",
     "exception": false,
     "start_time": "2021-01-29T04:47:22.961854",
     "status": "completed"
    },
    "tags": []
   },
   "outputs": [],
   "source": [
    "flights_needed_data = flights[0:100000]  # getting a segment "
   ]
  },
  {
   "cell_type": "code",
   "execution_count": 26,
   "metadata": {
    "execution": {
     "iopub.execute_input": "2021-01-29T04:47:23.036578Z",
     "iopub.status.busy": "2021-01-29T04:47:23.036022Z",
     "iopub.status.idle": "2021-01-29T04:47:23.108769Z",
     "shell.execute_reply": "2021-01-29T04:47:23.109475Z"
    },
    "id": "cikjVPHFvEqT",
    "outputId": "a463a879-0003-47b1-ce1e-b8ef59504c4c",
    "papermill": {
     "duration": 0.097323,
     "end_time": "2021-01-29T04:47:23.109644",
     "exception": false,
     "start_time": "2021-01-29T04:47:23.012321",
     "status": "completed"
    },
    "tags": []
   },
   "outputs": [
    {
     "data": {
      "text/html": [
       "<div>\n",
       "<style scoped>\n",
       "    .dataframe tbody tr th:only-of-type {\n",
       "        vertical-align: middle;\n",
       "    }\n",
       "\n",
       "    .dataframe tbody tr th {\n",
       "        vertical-align: top;\n",
       "    }\n",
       "\n",
       "    .dataframe thead th {\n",
       "        text-align: right;\n",
       "    }\n",
       "</style>\n",
       "<table border=\"1\" class=\"dataframe\">\n",
       "  <thead>\n",
       "    <tr style=\"text-align: right;\">\n",
       "      <th></th>\n",
       "      <th>YEAR</th>\n",
       "      <th>MONTH</th>\n",
       "      <th>DAY</th>\n",
       "      <th>DAY_OF_WEEK</th>\n",
       "      <th>AIRLINE</th>\n",
       "      <th>FLIGHT_NUMBER</th>\n",
       "      <th>TAIL_NUMBER</th>\n",
       "      <th>ORIGIN_AIRPORT</th>\n",
       "      <th>DESTINATION_AIRPORT</th>\n",
       "      <th>SCHEDULED_DEPARTURE</th>\n",
       "      <th>...</th>\n",
       "      <th>ARRIVAL_TIME</th>\n",
       "      <th>ARRIVAL_DELAY</th>\n",
       "      <th>DIVERTED</th>\n",
       "      <th>CANCELLED</th>\n",
       "      <th>CANCELLATION_REASON</th>\n",
       "      <th>AIR_SYSTEM_DELAY</th>\n",
       "      <th>SECURITY_DELAY</th>\n",
       "      <th>AIRLINE_DELAY</th>\n",
       "      <th>LATE_AIRCRAFT_DELAY</th>\n",
       "      <th>WEATHER_DELAY</th>\n",
       "    </tr>\n",
       "  </thead>\n",
       "  <tbody>\n",
       "    <tr>\n",
       "      <th>0</th>\n",
       "      <td>2015</td>\n",
       "      <td>1</td>\n",
       "      <td>1</td>\n",
       "      <td>4</td>\n",
       "      <td>AS</td>\n",
       "      <td>98</td>\n",
       "      <td>N407AS</td>\n",
       "      <td>ANC</td>\n",
       "      <td>SEA</td>\n",
       "      <td>5</td>\n",
       "      <td>...</td>\n",
       "      <td>408.0</td>\n",
       "      <td>-22.0</td>\n",
       "      <td>0</td>\n",
       "      <td>0</td>\n",
       "      <td>NaN</td>\n",
       "      <td>NaN</td>\n",
       "      <td>NaN</td>\n",
       "      <td>NaN</td>\n",
       "      <td>NaN</td>\n",
       "      <td>NaN</td>\n",
       "    </tr>\n",
       "    <tr>\n",
       "      <th>1</th>\n",
       "      <td>2015</td>\n",
       "      <td>1</td>\n",
       "      <td>1</td>\n",
       "      <td>4</td>\n",
       "      <td>AA</td>\n",
       "      <td>2336</td>\n",
       "      <td>N3KUAA</td>\n",
       "      <td>LAX</td>\n",
       "      <td>PBI</td>\n",
       "      <td>10</td>\n",
       "      <td>...</td>\n",
       "      <td>741.0</td>\n",
       "      <td>-9.0</td>\n",
       "      <td>0</td>\n",
       "      <td>0</td>\n",
       "      <td>NaN</td>\n",
       "      <td>NaN</td>\n",
       "      <td>NaN</td>\n",
       "      <td>NaN</td>\n",
       "      <td>NaN</td>\n",
       "      <td>NaN</td>\n",
       "    </tr>\n",
       "    <tr>\n",
       "      <th>2</th>\n",
       "      <td>2015</td>\n",
       "      <td>1</td>\n",
       "      <td>1</td>\n",
       "      <td>4</td>\n",
       "      <td>US</td>\n",
       "      <td>840</td>\n",
       "      <td>N171US</td>\n",
       "      <td>SFO</td>\n",
       "      <td>CLT</td>\n",
       "      <td>20</td>\n",
       "      <td>...</td>\n",
       "      <td>811.0</td>\n",
       "      <td>5.0</td>\n",
       "      <td>0</td>\n",
       "      <td>0</td>\n",
       "      <td>NaN</td>\n",
       "      <td>NaN</td>\n",
       "      <td>NaN</td>\n",
       "      <td>NaN</td>\n",
       "      <td>NaN</td>\n",
       "      <td>NaN</td>\n",
       "    </tr>\n",
       "    <tr>\n",
       "      <th>3</th>\n",
       "      <td>2015</td>\n",
       "      <td>1</td>\n",
       "      <td>1</td>\n",
       "      <td>4</td>\n",
       "      <td>AA</td>\n",
       "      <td>258</td>\n",
       "      <td>N3HYAA</td>\n",
       "      <td>LAX</td>\n",
       "      <td>MIA</td>\n",
       "      <td>20</td>\n",
       "      <td>...</td>\n",
       "      <td>756.0</td>\n",
       "      <td>-9.0</td>\n",
       "      <td>0</td>\n",
       "      <td>0</td>\n",
       "      <td>NaN</td>\n",
       "      <td>NaN</td>\n",
       "      <td>NaN</td>\n",
       "      <td>NaN</td>\n",
       "      <td>NaN</td>\n",
       "      <td>NaN</td>\n",
       "    </tr>\n",
       "    <tr>\n",
       "      <th>4</th>\n",
       "      <td>2015</td>\n",
       "      <td>1</td>\n",
       "      <td>1</td>\n",
       "      <td>4</td>\n",
       "      <td>AS</td>\n",
       "      <td>135</td>\n",
       "      <td>N527AS</td>\n",
       "      <td>SEA</td>\n",
       "      <td>ANC</td>\n",
       "      <td>25</td>\n",
       "      <td>...</td>\n",
       "      <td>259.0</td>\n",
       "      <td>-21.0</td>\n",
       "      <td>0</td>\n",
       "      <td>0</td>\n",
       "      <td>NaN</td>\n",
       "      <td>NaN</td>\n",
       "      <td>NaN</td>\n",
       "      <td>NaN</td>\n",
       "      <td>NaN</td>\n",
       "      <td>NaN</td>\n",
       "    </tr>\n",
       "    <tr>\n",
       "      <th>...</th>\n",
       "      <td>...</td>\n",
       "      <td>...</td>\n",
       "      <td>...</td>\n",
       "      <td>...</td>\n",
       "      <td>...</td>\n",
       "      <td>...</td>\n",
       "      <td>...</td>\n",
       "      <td>...</td>\n",
       "      <td>...</td>\n",
       "      <td>...</td>\n",
       "      <td>...</td>\n",
       "      <td>...</td>\n",
       "      <td>...</td>\n",
       "      <td>...</td>\n",
       "      <td>...</td>\n",
       "      <td>...</td>\n",
       "      <td>...</td>\n",
       "      <td>...</td>\n",
       "      <td>...</td>\n",
       "      <td>...</td>\n",
       "      <td>...</td>\n",
       "    </tr>\n",
       "    <tr>\n",
       "      <th>99995</th>\n",
       "      <td>2015</td>\n",
       "      <td>1</td>\n",
       "      <td>7</td>\n",
       "      <td>3</td>\n",
       "      <td>EV</td>\n",
       "      <td>4992</td>\n",
       "      <td>N837AS</td>\n",
       "      <td>ATL</td>\n",
       "      <td>BQK</td>\n",
       "      <td>1108</td>\n",
       "      <td>...</td>\n",
       "      <td>1208.0</td>\n",
       "      <td>-11.0</td>\n",
       "      <td>0</td>\n",
       "      <td>0</td>\n",
       "      <td>NaN</td>\n",
       "      <td>NaN</td>\n",
       "      <td>NaN</td>\n",
       "      <td>NaN</td>\n",
       "      <td>NaN</td>\n",
       "      <td>NaN</td>\n",
       "    </tr>\n",
       "    <tr>\n",
       "      <th>99996</th>\n",
       "      <td>2015</td>\n",
       "      <td>1</td>\n",
       "      <td>7</td>\n",
       "      <td>3</td>\n",
       "      <td>NK</td>\n",
       "      <td>394</td>\n",
       "      <td>N522NK</td>\n",
       "      <td>LAS</td>\n",
       "      <td>PHL</td>\n",
       "      <td>1108</td>\n",
       "      <td>...</td>\n",
       "      <td>1844.0</td>\n",
       "      <td>2.0</td>\n",
       "      <td>0</td>\n",
       "      <td>0</td>\n",
       "      <td>NaN</td>\n",
       "      <td>NaN</td>\n",
       "      <td>NaN</td>\n",
       "      <td>NaN</td>\n",
       "      <td>NaN</td>\n",
       "      <td>NaN</td>\n",
       "    </tr>\n",
       "    <tr>\n",
       "      <th>99997</th>\n",
       "      <td>2015</td>\n",
       "      <td>1</td>\n",
       "      <td>7</td>\n",
       "      <td>3</td>\n",
       "      <td>OO</td>\n",
       "      <td>5606</td>\n",
       "      <td>N582SW</td>\n",
       "      <td>SFO</td>\n",
       "      <td>BFL</td>\n",
       "      <td>1108</td>\n",
       "      <td>...</td>\n",
       "      <td>1232.0</td>\n",
       "      <td>7.0</td>\n",
       "      <td>0</td>\n",
       "      <td>0</td>\n",
       "      <td>NaN</td>\n",
       "      <td>NaN</td>\n",
       "      <td>NaN</td>\n",
       "      <td>NaN</td>\n",
       "      <td>NaN</td>\n",
       "      <td>NaN</td>\n",
       "    </tr>\n",
       "    <tr>\n",
       "      <th>99998</th>\n",
       "      <td>2015</td>\n",
       "      <td>1</td>\n",
       "      <td>7</td>\n",
       "      <td>3</td>\n",
       "      <td>UA</td>\n",
       "      <td>1135</td>\n",
       "      <td>N38473</td>\n",
       "      <td>ORD</td>\n",
       "      <td>MCO</td>\n",
       "      <td>1109</td>\n",
       "      <td>...</td>\n",
       "      <td>1453.0</td>\n",
       "      <td>-1.0</td>\n",
       "      <td>0</td>\n",
       "      <td>0</td>\n",
       "      <td>NaN</td>\n",
       "      <td>NaN</td>\n",
       "      <td>NaN</td>\n",
       "      <td>NaN</td>\n",
       "      <td>NaN</td>\n",
       "      <td>NaN</td>\n",
       "    </tr>\n",
       "    <tr>\n",
       "      <th>99999</th>\n",
       "      <td>2015</td>\n",
       "      <td>1</td>\n",
       "      <td>7</td>\n",
       "      <td>3</td>\n",
       "      <td>AA</td>\n",
       "      <td>74</td>\n",
       "      <td>N4XLAA</td>\n",
       "      <td>HOU</td>\n",
       "      <td>DFW</td>\n",
       "      <td>1109</td>\n",
       "      <td>...</td>\n",
       "      <td>1212.0</td>\n",
       "      <td>-8.0</td>\n",
       "      <td>0</td>\n",
       "      <td>0</td>\n",
       "      <td>NaN</td>\n",
       "      <td>NaN</td>\n",
       "      <td>NaN</td>\n",
       "      <td>NaN</td>\n",
       "      <td>NaN</td>\n",
       "      <td>NaN</td>\n",
       "    </tr>\n",
       "  </tbody>\n",
       "</table>\n",
       "<p>100000 rows × 31 columns</p>\n",
       "</div>"
      ],
      "text/plain": [
       "       YEAR  MONTH  DAY  DAY_OF_WEEK AIRLINE  FLIGHT_NUMBER TAIL_NUMBER  \\\n",
       "0      2015      1    1            4      AS             98      N407AS   \n",
       "1      2015      1    1            4      AA           2336      N3KUAA   \n",
       "2      2015      1    1            4      US            840      N171US   \n",
       "3      2015      1    1            4      AA            258      N3HYAA   \n",
       "4      2015      1    1            4      AS            135      N527AS   \n",
       "...     ...    ...  ...          ...     ...            ...         ...   \n",
       "99995  2015      1    7            3      EV           4992      N837AS   \n",
       "99996  2015      1    7            3      NK            394      N522NK   \n",
       "99997  2015      1    7            3      OO           5606      N582SW   \n",
       "99998  2015      1    7            3      UA           1135      N38473   \n",
       "99999  2015      1    7            3      AA             74      N4XLAA   \n",
       "\n",
       "      ORIGIN_AIRPORT DESTINATION_AIRPORT  SCHEDULED_DEPARTURE  ...  \\\n",
       "0                ANC                 SEA                    5  ...   \n",
       "1                LAX                 PBI                   10  ...   \n",
       "2                SFO                 CLT                   20  ...   \n",
       "3                LAX                 MIA                   20  ...   \n",
       "4                SEA                 ANC                   25  ...   \n",
       "...              ...                 ...                  ...  ...   \n",
       "99995            ATL                 BQK                 1108  ...   \n",
       "99996            LAS                 PHL                 1108  ...   \n",
       "99997            SFO                 BFL                 1108  ...   \n",
       "99998            ORD                 MCO                 1109  ...   \n",
       "99999            HOU                 DFW                 1109  ...   \n",
       "\n",
       "       ARRIVAL_TIME  ARRIVAL_DELAY  DIVERTED  CANCELLED  CANCELLATION_REASON  \\\n",
       "0             408.0          -22.0         0          0                  NaN   \n",
       "1             741.0           -9.0         0          0                  NaN   \n",
       "2             811.0            5.0         0          0                  NaN   \n",
       "3             756.0           -9.0         0          0                  NaN   \n",
       "4             259.0          -21.0         0          0                  NaN   \n",
       "...             ...            ...       ...        ...                  ...   \n",
       "99995        1208.0          -11.0         0          0                  NaN   \n",
       "99996        1844.0            2.0         0          0                  NaN   \n",
       "99997        1232.0            7.0         0          0                  NaN   \n",
       "99998        1453.0           -1.0         0          0                  NaN   \n",
       "99999        1212.0           -8.0         0          0                  NaN   \n",
       "\n",
       "       AIR_SYSTEM_DELAY  SECURITY_DELAY  AIRLINE_DELAY  LATE_AIRCRAFT_DELAY  \\\n",
       "0                   NaN             NaN            NaN                  NaN   \n",
       "1                   NaN             NaN            NaN                  NaN   \n",
       "2                   NaN             NaN            NaN                  NaN   \n",
       "3                   NaN             NaN            NaN                  NaN   \n",
       "4                   NaN             NaN            NaN                  NaN   \n",
       "...                 ...             ...            ...                  ...   \n",
       "99995               NaN             NaN            NaN                  NaN   \n",
       "99996               NaN             NaN            NaN                  NaN   \n",
       "99997               NaN             NaN            NaN                  NaN   \n",
       "99998               NaN             NaN            NaN                  NaN   \n",
       "99999               NaN             NaN            NaN                  NaN   \n",
       "\n",
       "       WEATHER_DELAY  \n",
       "0                NaN  \n",
       "1                NaN  \n",
       "2                NaN  \n",
       "3                NaN  \n",
       "4                NaN  \n",
       "...              ...  \n",
       "99995            NaN  \n",
       "99996            NaN  \n",
       "99997            NaN  \n",
       "99998            NaN  \n",
       "99999            NaN  \n",
       "\n",
       "[100000 rows x 31 columns]"
      ]
     },
     "execution_count": 26,
     "metadata": {},
     "output_type": "execute_result"
    }
   ],
   "source": [
    "flights_needed_data"
   ]
  },
  {
   "cell_type": "code",
   "execution_count": 27,
   "metadata": {
    "execution": {
     "iopub.execute_input": "2021-01-29T04:47:23.185461Z",
     "iopub.status.busy": "2021-01-29T04:47:23.184089Z",
     "iopub.status.idle": "2021-01-29T04:47:23.229228Z",
     "shell.execute_reply": "2021-01-29T04:47:23.229690Z"
    },
    "id": "wlm3Y2ePqnU6",
    "outputId": "2e6df7c9-6413-47c2-adb4-e619fb091d12",
    "papermill": {
     "duration": 0.085541,
     "end_time": "2021-01-29T04:47:23.229860",
     "exception": false,
     "start_time": "2021-01-29T04:47:23.144319",
     "status": "completed"
    },
    "tags": []
   },
   "outputs": [
    {
     "name": "stdout",
     "output_type": "stream",
     "text": [
      "<class 'pandas.core.frame.DataFrame'>\n",
      "RangeIndex: 100000 entries, 0 to 99999\n",
      "Data columns (total 31 columns):\n",
      " #   Column               Non-Null Count   Dtype  \n",
      "---  ------               --------------   -----  \n",
      " 0   YEAR                 100000 non-null  int64  \n",
      " 1   MONTH                100000 non-null  int64  \n",
      " 2   DAY                  100000 non-null  int64  \n",
      " 3   DAY_OF_WEEK          100000 non-null  int64  \n",
      " 4   AIRLINE              100000 non-null  object \n",
      " 5   FLIGHT_NUMBER        100000 non-null  int64  \n",
      " 6   TAIL_NUMBER          99833 non-null   object \n",
      " 7   ORIGIN_AIRPORT       100000 non-null  object \n",
      " 8   DESTINATION_AIRPORT  100000 non-null  object \n",
      " 9   SCHEDULED_DEPARTURE  100000 non-null  int64  \n",
      " 10  DEPARTURE_TIME       97702 non-null   float64\n",
      " 11  DEPARTURE_DELAY      97702 non-null   float64\n",
      " 12  TAXI_OUT             97629 non-null   float64\n",
      " 13  WHEELS_OFF           97629 non-null   float64\n",
      " 14  SCHEDULED_TIME       100000 non-null  float64\n",
      " 15  ELAPSED_TIME         97387 non-null   float64\n",
      " 16  AIR_TIME             97387 non-null   float64\n",
      " 17  DISTANCE             100000 non-null  int64  \n",
      " 18  WHEELS_ON            97560 non-null   float64\n",
      " 19  TAXI_IN              97560 non-null   float64\n",
      " 20  SCHEDULED_ARRIVAL    100000 non-null  int64  \n",
      " 21  ARRIVAL_TIME         97560 non-null   float64\n",
      " 22  ARRIVAL_DELAY        97387 non-null   float64\n",
      " 23  DIVERTED             100000 non-null  int64  \n",
      " 24  CANCELLED            100000 non-null  int64  \n",
      " 25  CANCELLATION_REASON  2389 non-null    object \n",
      " 26  AIR_SYSTEM_DELAY     34625 non-null   float64\n",
      " 27  SECURITY_DELAY       34625 non-null   float64\n",
      " 28  AIRLINE_DELAY        34625 non-null   float64\n",
      " 29  LATE_AIRCRAFT_DELAY  34625 non-null   float64\n",
      " 30  WEATHER_DELAY        34625 non-null   float64\n",
      "dtypes: float64(16), int64(10), object(5)\n",
      "memory usage: 23.7+ MB\n"
     ]
    }
   ],
   "source": [
    "flights_needed_data.info()  # for an insight into the data"
   ]
  },
  {
   "cell_type": "code",
   "execution_count": 28,
   "metadata": {
    "execution": {
     "iopub.execute_input": "2021-01-29T04:47:23.283054Z",
     "iopub.status.busy": "2021-01-29T04:47:23.282116Z",
     "iopub.status.idle": "2021-01-29T04:47:23.292039Z",
     "shell.execute_reply": "2021-01-29T04:47:23.291477Z"
    },
    "id": "0gyL1I0vq2y2",
    "outputId": "35ceb0e9-3837-4060-aa03-d867e0d1e34f",
    "papermill": {
     "duration": 0.038855,
     "end_time": "2021-01-29T04:47:23.292150",
     "exception": false,
     "start_time": "2021-01-29T04:47:23.253295",
     "status": "completed"
    },
    "tags": []
   },
   "outputs": [
    {
     "data": {
      "text/plain": [
       "DIVERTED\n",
       "0    99776\n",
       "1      224\n",
       "Name: count, dtype: int64"
      ]
     },
     "execution_count": 28,
     "metadata": {},
     "output_type": "execute_result"
    }
   ],
   "source": [
    "flights_needed_data.value_counts('DIVERTED')  # will tell us the no. of flights which were diverted"
   ]
  },
  {
   "cell_type": "markdown",
   "metadata": {
    "papermill": {
     "duration": 0.023827,
     "end_time": "2021-01-29T04:47:23.340076",
     "exception": false,
     "start_time": "2021-01-29T04:47:23.316249",
     "status": "completed"
    },
    "tags": []
   },
   "source": [
    "### Data Visualization"
   ]
  },
  {
   "cell_type": "code",
   "execution_count": 29,
   "metadata": {
    "execution": {
     "iopub.execute_input": "2021-01-29T04:47:23.395279Z",
     "iopub.status.busy": "2021-01-29T04:47:23.394400Z",
     "iopub.status.idle": "2021-01-29T04:47:24.579050Z",
     "shell.execute_reply": "2021-01-29T04:47:24.578195Z"
    },
    "id": "I8tU0O_ArHtb",
    "outputId": "83c762f4-3b86-4c78-de71-feb418c8cf3d",
    "papermill": {
     "duration": 1.214824,
     "end_time": "2021-01-29T04:47:24.579188",
     "exception": false,
     "start_time": "2021-01-29T04:47:23.364364",
     "status": "completed"
    },
    "tags": []
   },
   "outputs": [
    {
     "data": {
      "text/plain": [
       "<seaborn.axisgrid.JointGrid at 0x298799900>"
      ]
     },
     "execution_count": 29,
     "metadata": {},
     "output_type": "execute_result"
    },
    {
     "data": {
      "image/png": "[encoded data removed]",
      "text/plain": [
       "<Figure size 600x600 with 3 Axes>"
      ]
     },
     "metadata": {},
     "output_type": "display_data"
    }
   ],
   "source": [
    "sb.jointplot(data=flights_needed_data, x=\"SCHEDULED_ARRIVAL\", y=\"ARRIVAL_TIME\")"
   ]
  },
  {
   "cell_type": "code",
   "execution_count": 30,
   "metadata": {
    "execution": {
     "iopub.execute_input": "2021-01-29T04:47:24.655194Z",
     "iopub.status.busy": "2021-01-29T04:47:24.654244Z",
     "iopub.status.idle": "2021-01-29T04:47:24.877617Z",
     "shell.execute_reply": "2021-01-29T04:47:24.877079Z"
    },
    "id": "aSRS4HrFwxZF",
    "papermill": {
     "duration": 0.254628,
     "end_time": "2021-01-29T04:47:24.877760",
     "exception": false,
     "start_time": "2021-01-29T04:47:24.623132",
     "status": "completed"
    },
    "tags": []
   },
   "outputs": [
    {
     "ename": "ValueError",
     "evalue": "could not convert string to float: 'AS'",
     "output_type": "error",
     "traceback": [
      "\u001b[0;31m---------------------------------------------------------------------------\u001b[0m",
      "\u001b[0;31mValueError\u001b[0m                                Traceback (most recent call last)",
      "\u001b[1;32m/Users/vaibhav/Downloads/flight-delay-predictions.ipynb Cell 13\u001b[0m line \u001b[0;36m1\n\u001b[0;32m----> <a href='vscode-notebook-cell:/Users/vaibhav/Downloads/flight-delay-predictions.ipynb#X15sZmlsZQ%3D%3D?line=0'>1</a>\u001b[0m corr \u001b[39m=\u001b[39m flights_needed_data\u001b[39m.\u001b[39;49mcorr(method\u001b[39m=\u001b[39;49m\u001b[39m'\u001b[39;49m\u001b[39mpearson\u001b[39;49m\u001b[39m'\u001b[39;49m)\n",
      "File \u001b[0;32m/opt/homebrew/lib/python3.10/site-packages/pandas/core/frame.py:10707\u001b[0m, in \u001b[0;36mDataFrame.corr\u001b[0;34m(self, method, min_periods, numeric_only)\u001b[0m\n\u001b[1;32m  10705\u001b[0m cols \u001b[39m=\u001b[39m data\u001b[39m.\u001b[39mcolumns\n\u001b[1;32m  10706\u001b[0m idx \u001b[39m=\u001b[39m cols\u001b[39m.\u001b[39mcopy()\n\u001b[0;32m> 10707\u001b[0m mat \u001b[39m=\u001b[39m data\u001b[39m.\u001b[39;49mto_numpy(dtype\u001b[39m=\u001b[39;49m\u001b[39mfloat\u001b[39;49m, na_value\u001b[39m=\u001b[39;49mnp\u001b[39m.\u001b[39;49mnan, copy\u001b[39m=\u001b[39;49m\u001b[39mFalse\u001b[39;49;00m)\n\u001b[1;32m  10709\u001b[0m \u001b[39mif\u001b[39;00m method \u001b[39m==\u001b[39m \u001b[39m\"\u001b[39m\u001b[39mpearson\u001b[39m\u001b[39m\"\u001b[39m:\n\u001b[1;32m  10710\u001b[0m     correl \u001b[39m=\u001b[39m libalgos\u001b[39m.\u001b[39mnancorr(mat, minp\u001b[39m=\u001b[39mmin_periods)\n",
      "File \u001b[0;32m/opt/homebrew/lib/python3.10/site-packages/pandas/core/frame.py:1892\u001b[0m, in \u001b[0;36mDataFrame.to_numpy\u001b[0;34m(self, dtype, copy, na_value)\u001b[0m\n\u001b[1;32m   1890\u001b[0m \u001b[39mif\u001b[39;00m dtype \u001b[39mis\u001b[39;00m \u001b[39mnot\u001b[39;00m \u001b[39mNone\u001b[39;00m:\n\u001b[1;32m   1891\u001b[0m     dtype \u001b[39m=\u001b[39m np\u001b[39m.\u001b[39mdtype(dtype)\n\u001b[0;32m-> 1892\u001b[0m result \u001b[39m=\u001b[39m \u001b[39mself\u001b[39;49m\u001b[39m.\u001b[39;49m_mgr\u001b[39m.\u001b[39;49mas_array(dtype\u001b[39m=\u001b[39;49mdtype, copy\u001b[39m=\u001b[39;49mcopy, na_value\u001b[39m=\u001b[39;49mna_value)\n\u001b[1;32m   1893\u001b[0m \u001b[39mif\u001b[39;00m result\u001b[39m.\u001b[39mdtype \u001b[39mis\u001b[39;00m \u001b[39mnot\u001b[39;00m dtype:\n\u001b[1;32m   1894\u001b[0m     result \u001b[39m=\u001b[39m np\u001b[39m.\u001b[39marray(result, dtype\u001b[39m=\u001b[39mdtype, copy\u001b[39m=\u001b[39m\u001b[39mFalse\u001b[39;00m)\n",
      "File \u001b[0;32m/opt/homebrew/lib/python3.10/site-packages/pandas/core/internals/managers.py:1656\u001b[0m, in \u001b[0;36mBlockManager.as_array\u001b[0;34m(self, dtype, copy, na_value)\u001b[0m\n\u001b[1;32m   1654\u001b[0m         arr\u001b[39m.\u001b[39mflags\u001b[39m.\u001b[39mwriteable \u001b[39m=\u001b[39m \u001b[39mFalse\u001b[39;00m\n\u001b[1;32m   1655\u001b[0m \u001b[39melse\u001b[39;00m:\n\u001b[0;32m-> 1656\u001b[0m     arr \u001b[39m=\u001b[39m \u001b[39mself\u001b[39;49m\u001b[39m.\u001b[39;49m_interleave(dtype\u001b[39m=\u001b[39;49mdtype, na_value\u001b[39m=\u001b[39;49mna_value)\n\u001b[1;32m   1657\u001b[0m     \u001b[39m# The underlying data was copied within _interleave, so no need\u001b[39;00m\n\u001b[1;32m   1658\u001b[0m     \u001b[39m# to further copy if copy=True or setting na_value\u001b[39;00m\n\u001b[1;32m   1660\u001b[0m \u001b[39mif\u001b[39;00m na_value \u001b[39mis\u001b[39;00m lib\u001b[39m.\u001b[39mno_default:\n",
      "File \u001b[0;32m/opt/homebrew/lib/python3.10/site-packages/pandas/core/internals/managers.py:1715\u001b[0m, in \u001b[0;36mBlockManager._interleave\u001b[0;34m(self, dtype, na_value)\u001b[0m\n\u001b[1;32m   1713\u001b[0m     \u001b[39melse\u001b[39;00m:\n\u001b[1;32m   1714\u001b[0m         arr \u001b[39m=\u001b[39m blk\u001b[39m.\u001b[39mget_values(dtype)\n\u001b[0;32m-> 1715\u001b[0m     result[rl\u001b[39m.\u001b[39;49mindexer] \u001b[39m=\u001b[39m arr\n\u001b[1;32m   1716\u001b[0m     itemmask[rl\u001b[39m.\u001b[39mindexer] \u001b[39m=\u001b[39m \u001b[39m1\u001b[39m\n\u001b[1;32m   1718\u001b[0m \u001b[39mif\u001b[39;00m \u001b[39mnot\u001b[39;00m itemmask\u001b[39m.\u001b[39mall():\n",
      "\u001b[0;31mValueError\u001b[0m: could not convert string to float: 'AS'"
     ]
    }
   ],
   "source": [
    "corr = flights_needed_data.corr(method='pearson')"
   ]
  },
  {
   "cell_type": "code",
   "execution_count": null,
   "metadata": {
    "execution": {
     "iopub.execute_input": "2021-01-29T04:47:24.948619Z",
     "iopub.status.busy": "2021-01-29T04:47:24.947701Z",
     "iopub.status.idle": "2021-01-29T04:47:25.320989Z",
     "shell.execute_reply": "2021-01-29T04:47:25.320297Z"
    },
    "id": "J9_L4K8Zwu5B",
    "outputId": "0ec2053e-f848-441e-c532-2f57f131e5a3",
    "papermill": {
     "duration": 0.409141,
     "end_time": "2021-01-29T04:47:25.321102",
     "exception": false,
     "start_time": "2021-01-29T04:47:24.911961",
     "status": "completed"
    },
    "tags": []
   },
   "outputs": [],
   "source": [
    "sb.heatmap(corr)"
   ]
  },
  {
   "cell_type": "code",
   "execution_count": null,
   "metadata": {
    "execution": {
     "iopub.execute_input": "2021-01-29T04:47:25.404880Z",
     "iopub.status.busy": "2021-01-29T04:47:25.389459Z",
     "iopub.status.idle": "2021-01-29T04:47:25.422658Z",
     "shell.execute_reply": "2021-01-29T04:47:25.423168Z"
    },
    "id": "YhgZYhwKxHJJ",
    "outputId": "13312414-ad60-4bf8-96d2-028bbbc731f5",
    "papermill": {
     "duration": 0.074324,
     "end_time": "2021-01-29T04:47:25.423322",
     "exception": false,
     "start_time": "2021-01-29T04:47:25.348998",
     "status": "completed"
    },
    "tags": []
   },
   "outputs": [],
   "source": [
    "corr"
   ]
  },
  {
   "cell_type": "markdown",
   "metadata": {
    "papermill": {
     "duration": 0.027909,
     "end_time": "2021-01-29T04:47:25.480127",
     "exception": false,
     "start_time": "2021-01-29T04:47:25.452218",
     "status": "completed"
    },
    "tags": []
   },
   "source": [
    "### Data Preprocessing"
   ]
  },
  {
   "cell_type": "code",
   "execution_count": null,
   "metadata": {
    "execution": {
     "iopub.execute_input": "2021-01-29T04:47:25.548298Z",
     "iopub.status.busy": "2021-01-29T04:47:25.545189Z",
     "iopub.status.idle": "2021-01-29T04:47:25.552435Z",
     "shell.execute_reply": "2021-01-29T04:47:25.551785Z"
    },
    "id": "pftA6NKayM4h",
    "papermill": {
     "duration": 0.043615,
     "end_time": "2021-01-29T04:47:25.552550",
     "exception": false,
     "start_time": "2021-01-29T04:47:25.508935",
     "status": "completed"
    },
    "tags": []
   },
   "outputs": [],
   "source": [
    "# filtering out unnecessary columns\n",
    "flights_needed_data=flights_needed_data.drop(['YEAR','FLIGHT_NUMBER','AIRLINE','DISTANCE','TAIL_NUMBER','TAXI_OUT',\n",
    "                                              'SCHEDULED_TIME','DEPARTURE_TIME','WHEELS_OFF','ELAPSED_TIME',\n",
    "                                              'AIR_TIME','WHEELS_ON','DAY_OF_WEEK','TAXI_IN','CANCELLATION_REASON'],\n",
    "                                             axis=1)"
   ]
  },
  {
   "cell_type": "code",
   "execution_count": null,
   "metadata": {
    "execution": {
     "iopub.execute_input": "2021-01-29T04:47:25.642150Z",
     "iopub.status.busy": "2021-01-29T04:47:25.640117Z",
     "iopub.status.idle": "2021-01-29T04:47:25.647820Z",
     "shell.execute_reply": "2021-01-29T04:47:25.646931Z"
    },
    "id": "oSQQ10_P1gqY",
    "outputId": "02340576-1769-4f42-dd51-9e6290375fa5",
    "papermill": {
     "duration": 0.065406,
     "end_time": "2021-01-29T04:47:25.647955",
     "exception": false,
     "start_time": "2021-01-29T04:47:25.582549",
     "status": "completed"
    },
    "tags": []
   },
   "outputs": [],
   "source": [
    "flights_needed_data"
   ]
  },
  {
   "cell_type": "code",
   "execution_count": null,
   "metadata": {
    "execution": {
     "iopub.execute_input": "2021-01-29T04:47:25.743363Z",
     "iopub.status.busy": "2021-01-29T04:47:25.742510Z",
     "iopub.status.idle": "2021-01-29T04:47:26.922774Z",
     "shell.execute_reply": "2021-01-29T04:47:26.921883Z"
    },
    "id": "I5IBw7ad0uxw",
    "papermill": {
     "duration": 1.230401,
     "end_time": "2021-01-29T04:47:26.922916",
     "exception": false,
     "start_time": "2021-01-29T04:47:25.692515",
     "status": "completed"
    },
    "tags": []
   },
   "outputs": [],
   "source": [
    "# replacing all NaN values with the mean of the attribute in which they are present\n",
    "flights_needed_data=flights_needed_data.fillna(flights_needed_data.mean())"
   ]
  },
  {
   "cell_type": "code",
   "execution_count": null,
   "metadata": {
    "execution": {
     "iopub.execute_input": "2021-01-29T04:47:27.034160Z",
     "iopub.status.busy": "2021-01-29T04:47:27.019519Z",
     "iopub.status.idle": "2021-01-29T04:47:27.047748Z",
     "shell.execute_reply": "2021-01-29T04:47:27.047080Z"
    },
    "id": "IwDGKuZ04ImK",
    "outputId": "933dd2aa-c598-4618-c388-dc0cbc9cad22",
    "papermill": {
     "duration": 0.080208,
     "end_time": "2021-01-29T04:47:27.047863",
     "exception": false,
     "start_time": "2021-01-29T04:47:26.967655",
     "status": "completed"
    },
    "tags": []
   },
   "outputs": [],
   "source": [
    "flights_needed_data"
   ]
  },
  {
   "cell_type": "code",
   "execution_count": null,
   "metadata": {
    "execution": {
     "iopub.execute_input": "2021-01-29T04:47:27.115596Z",
     "iopub.status.busy": "2021-01-29T04:47:27.114986Z",
     "iopub.status.idle": "2021-01-29T04:47:27.117158Z",
     "shell.execute_reply": "2021-01-29T04:47:27.117777Z"
    },
    "id": "BjQ1rhrb1YFd",
    "papermill": {
     "duration": 0.038002,
     "end_time": "2021-01-29T04:47:27.117911",
     "exception": false,
     "start_time": "2021-01-29T04:47:27.079909",
     "status": "completed"
    },
    "tags": []
   },
   "outputs": [],
   "source": [
    "# creating a new column; it will tell if the flight was delayed or not\n",
    "result=[]"
   ]
  },
  {
   "cell_type": "code",
   "execution_count": null,
   "metadata": {
    "execution": {
     "iopub.execute_input": "2021-01-29T04:47:27.199078Z",
     "iopub.status.busy": "2021-01-29T04:47:27.194240Z",
     "iopub.status.idle": "2021-01-29T04:47:27.221135Z",
     "shell.execute_reply": "2021-01-29T04:47:27.220487Z"
    },
    "id": "C2AFDcSz2bjO",
    "papermill": {
     "duration": 0.072046,
     "end_time": "2021-01-29T04:47:27.221249",
     "exception": false,
     "start_time": "2021-01-29T04:47:27.149203",
     "status": "completed"
    },
    "tags": []
   },
   "outputs": [],
   "source": [
    "for row in flights_needed_data['ARRIVAL_DELAY']:\n",
    "  if row > 15:\n",
    "    result.append(1)\n",
    "  else:\n",
    "    result.append(0)  "
   ]
  },
  {
   "cell_type": "code",
   "execution_count": null,
   "metadata": {
    "execution": {
     "iopub.execute_input": "2021-01-29T04:47:27.317100Z",
     "iopub.status.busy": "2021-01-29T04:47:27.288180Z",
     "iopub.status.idle": "2021-01-29T04:47:27.323061Z",
     "shell.execute_reply": "2021-01-29T04:47:27.322292Z"
    },
    "id": "Kh0J66aj3EzK",
    "papermill": {
     "duration": 0.070777,
     "end_time": "2021-01-29T04:47:27.323203",
     "exception": false,
     "start_time": "2021-01-29T04:47:27.252426",
     "status": "completed"
    },
    "tags": []
   },
   "outputs": [],
   "source": [
    "flights_needed_data['result'] = result"
   ]
  },
  {
   "cell_type": "code",
   "execution_count": null,
   "metadata": {
    "execution": {
     "iopub.execute_input": "2021-01-29T04:47:27.421652Z",
     "iopub.status.busy": "2021-01-29T04:47:27.421030Z",
     "iopub.status.idle": "2021-01-29T04:47:27.448625Z",
     "shell.execute_reply": "2021-01-29T04:47:27.449160Z"
    },
    "id": "uJ4QW_k33ZNu",
    "outputId": "598d334b-6def-4656-f24d-dc76f73ceefd",
    "papermill": {
     "duration": 0.079743,
     "end_time": "2021-01-29T04:47:27.449303",
     "exception": false,
     "start_time": "2021-01-29T04:47:27.369560",
     "status": "completed"
    },
    "tags": []
   },
   "outputs": [],
   "source": [
    "flights_needed_data"
   ]
  },
  {
   "cell_type": "code",
   "execution_count": null,
   "metadata": {
    "execution": {
     "iopub.execute_input": "2021-01-29T04:47:27.519779Z",
     "iopub.status.busy": "2021-01-29T04:47:27.519132Z",
     "iopub.status.idle": "2021-01-29T04:47:27.527803Z",
     "shell.execute_reply": "2021-01-29T04:47:27.528299Z"
    },
    "id": "krPajIiZ3_G5",
    "outputId": "254752b6-bb91-415d-e88b-815532cc3e5a",
    "papermill": {
     "duration": 0.046772,
     "end_time": "2021-01-29T04:47:27.528437",
     "exception": false,
     "start_time": "2021-01-29T04:47:27.481665",
     "status": "completed"
    },
    "tags": []
   },
   "outputs": [],
   "source": [
    "flights_needed_data.value_counts('result')"
   ]
  },
  {
   "cell_type": "code",
   "execution_count": null,
   "metadata": {
    "execution": {
     "iopub.execute_input": "2021-01-29T04:47:27.600587Z",
     "iopub.status.busy": "2021-01-29T04:47:27.599913Z",
     "iopub.status.idle": "2021-01-29T04:47:27.628961Z",
     "shell.execute_reply": "2021-01-29T04:47:27.628108Z"
    },
    "id": "Ij79v7Y3_RgW",
    "outputId": "87d4a574-6931-4bf6-bbde-72952c3baaf4",
    "papermill": {
     "duration": 0.067927,
     "end_time": "2021-01-29T04:47:27.629105",
     "exception": false,
     "start_time": "2021-01-29T04:47:27.561178",
     "status": "completed"
    },
    "tags": []
   },
   "outputs": [],
   "source": [
    "# removing some more columns\n",
    "flights_needed_data=flights_needed_data.drop(['ORIGIN_AIRPORT', 'DESTINATION_AIRPORT', 'ARRIVAL_TIME', 'ARRIVAL_DELAY'],axis=1)\n",
    "flights_needed_data"
   ]
  },
  {
   "cell_type": "markdown",
   "metadata": {
    "papermill": {
     "duration": 0.049776,
     "end_time": "2021-01-29T04:47:27.729603",
     "exception": false,
     "start_time": "2021-01-29T04:47:27.679827",
     "status": "completed"
    },
    "tags": []
   },
   "source": [
    "### Splitting Data for Training and Testing"
   ]
  },
  {
   "cell_type": "code",
   "execution_count": null,
   "metadata": {
    "execution": {
     "iopub.execute_input": "2021-01-29T04:47:27.838686Z",
     "iopub.status.busy": "2021-01-29T04:47:27.837814Z",
     "iopub.status.idle": "2021-01-29T04:47:27.864883Z",
     "shell.execute_reply": "2021-01-29T04:47:27.865509Z"
    },
    "id": "GwAUjhg-4Zn6",
    "papermill": {
     "duration": 0.085618,
     "end_time": "2021-01-29T04:47:27.865646",
     "exception": false,
     "start_time": "2021-01-29T04:47:27.780028",
     "status": "completed"
    },
    "tags": []
   },
   "outputs": [],
   "source": [
    "data = flights_needed_data.values\n",
    "X, y = data[:,:-1], data[:,-1]\n",
    "X_train, X_test, y_train, y_test = train_test_split(X, y, test_size=0.30, random_state=42)  # splitting in the ratio 70:30"
   ]
  },
  {
   "cell_type": "code",
   "execution_count": null,
   "metadata": {
    "execution": {
     "iopub.execute_input": "2021-01-29T04:47:27.940363Z",
     "iopub.status.busy": "2021-01-29T04:47:27.939385Z",
     "iopub.status.idle": "2021-01-29T04:47:27.976929Z",
     "shell.execute_reply": "2021-01-29T04:47:27.976246Z"
    },
    "id": "6XsHnDLP7CFs",
    "papermill": {
     "duration": 0.076998,
     "end_time": "2021-01-29T04:47:27.977039",
     "exception": false,
     "start_time": "2021-01-29T04:47:27.900041",
     "status": "completed"
    },
    "tags": []
   },
   "outputs": [],
   "source": [
    "scaled_features = StandardScaler().fit_transform(X_train, X_test)"
   ]
  },
  {
   "cell_type": "markdown",
   "metadata": {
    "papermill": {
     "duration": 0.033261,
     "end_time": "2021-01-29T04:47:28.044582",
     "exception": false,
     "start_time": "2021-01-29T04:47:28.011321",
     "status": "completed"
    },
    "tags": []
   },
   "source": [
    "### Applying Decision Tree Classifier on Training Data"
   ]
  },
  {
   "cell_type": "code",
   "execution_count": null,
   "metadata": {
    "execution": {
     "iopub.execute_input": "2021-01-29T04:47:28.120711Z",
     "iopub.status.busy": "2021-01-29T04:47:28.119806Z",
     "iopub.status.idle": "2021-01-29T04:47:28.300249Z",
     "shell.execute_reply": "2021-01-29T04:47:28.299580Z"
    },
    "id": "0AIkZKNdBEWS",
    "papermill": {
     "duration": 0.220598,
     "end_time": "2021-01-29T04:47:28.300426",
     "exception": false,
     "start_time": "2021-01-29T04:47:28.079828",
     "status": "completed"
    },
    "tags": []
   },
   "outputs": [],
   "source": [
    "clf = DecisionTreeClassifier()\n",
    "clf = clf.fit(X_train,y_train)"
   ]
  },
  {
   "cell_type": "markdown",
   "metadata": {
    "papermill": {
     "duration": 0.034834,
     "end_time": "2021-01-29T04:47:28.370474",
     "exception": false,
     "start_time": "2021-01-29T04:47:28.335640",
     "status": "completed"
    },
    "tags": []
   },
   "source": [
    "### Making Predictions and Checking Accuracy"
   ]
  },
  {
   "cell_type": "code",
   "execution_count": null,
   "metadata": {
    "execution": {
     "iopub.execute_input": "2021-01-29T04:47:28.445872Z",
     "iopub.status.busy": "2021-01-29T04:47:28.445232Z",
     "iopub.status.idle": "2021-01-29T04:47:28.464790Z",
     "shell.execute_reply": "2021-01-29T04:47:28.464238Z"
    },
    "id": "E3CWbnZOB2M0",
    "outputId": "baf35f45-8198-4588-cdfb-06b13fd0f628",
    "papermill": {
     "duration": 0.059465,
     "end_time": "2021-01-29T04:47:28.464906",
     "exception": false,
     "start_time": "2021-01-29T04:47:28.405441",
     "status": "completed"
    },
    "tags": []
   },
   "outputs": [],
   "source": [
    "pred_prob = clf.predict_proba(X_test)\n",
    "auc_score = roc_auc_score(y_test, pred_prob[:,1])\n",
    "auc_score"
   ]
  }
 ],
 "metadata": {
  "kernelspec": {
   "display_name": "Python 3",
   "language": "python",
   "name": "python3"
  },
  "language_info": {
   "codemirror_mode": {
    "name": "ipython",
    "version": 3
   },
   "file_extension": ".py",
   "mimetype": "text/x-python",
   "name": "python",
   "nbconvert_exporter": "python",
   "pygments_lexer": "ipython3",
   "version": "3.10.13"
  },
  "papermill": {
   "duration": 34.569165,
   "end_time": "2021-01-29T04:47:28.680399",
   "environment_variables": {},
   "exception": null,
   "input_path": "__notebook__.ipynb",
   "output_path": "__notebook__.ipynb",
   "parameters": {},
   "start_time": "2021-01-29T04:46:54.111234",
   "version": "2.1.0"
  }
 },
 "nbformat": 4,
 "nbformat_minor": 4
}
