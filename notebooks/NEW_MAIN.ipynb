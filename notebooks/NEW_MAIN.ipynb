{
 "cells": [
  {
   "cell_type": "code",
   "execution_count": null,
   "metadata": {},
   "outputs": [],
   "source": [
    "import requests\n",
    "import pandas as pd\n",
    "import json\n",
    "import numpy as np\n",
    "import matplotlib.pyplot as plt\n",
    "import datetime\n",
    "from tensorflow.keras.preprocessing.text import Tokenizer\n",
    "from tensorflow.keras.preprocessing.sequence import pad_sequences\n",
    "from sklearn.model_selection import train_test_split\n",
    "from sklearn.preprocessing import StandardScaler\n",
    "from tensorflow.keras.models import Sequential\n",
    "from tensorflow.keras.layers import Dense\n",
    "def getdata(airline):\n",
    "    apiKey = \"gQvOAvCu725jH4VcgCA300hbQJNwFfz2\"\n",
    "    apiUrl = \"https://aeroapi.flightaware.com/aeroapi/\"\n",
    "\n",
    "    operators = airline\n",
    "    payload = {'max_pages': 5}\n",
    "    auth_header = {'x-apikey':apiKey}\n",
    "\n",
    "    response = requests.get(apiUrl + f\"operators/{operators}/flights\",\n",
    "    params=payload, headers=auth_header)\n",
    "\n",
    "    if response.status_code == 200:\n",
    "        output = response.json()\n",
    "        return output\n",
    "    else:\n",
    "        return(\"Error executing request\")\n",
    "\n",
    "def getflight(callsign):\n",
    "    apiKey = \"gQvOAvCu725jH4VcgCA300hbQJNwFfz2\"\n",
    "    apiUrl = \"https://aeroapi.flightaware.com/aeroapi/\"\n",
    "\n",
    "    flight = str(callsign)\n",
    "    current_utc_time = datetime.datetime.utcnow()\n",
    "    utc = current_utc_time.strftime(\"%Y-%m-%dT%H:%M:%SZ\")\n",
    "    one_day_ago = current_utc_time - datetime.timedelta(days=1)\n",
    "    utc_1 = one_day_ago.strftime(\"%Y-%m-%dT%H:%M:%SZ\")\n",
    "    payload = {'max_pages': 1,'start':utc_1,'end':utc}\n",
    "    auth_header = {'x-apikey':apiKey}\n",
    "\n",
    "    response = requests.get(apiUrl + f\"flights/{flight}\",\n",
    "        params=payload, headers=auth_header)\n",
    "\n",
    "    if response.status_code == 200:\n",
    "        output = response.json()\n",
    "        return output\n",
    "    else:\n",
    "        return(\"Error executing request\")\n",
    "def get_airport_arrivals(airport):\n",
    "    apiKey = \"gQvOAvCu725jH4VcgCA300hbQJNwFfz2\"\n",
    "    apiUrl = \"https://aeroapi.flightaware.com/aeroapi/\"\n",
    "\n",
    "    airports = airport\n",
    "    payload = {'max_pages': 2}\n",
    "    auth_header = {'x-apikey':apiKey}\n",
    "\n",
    "    response = requests.get(apiUrl + f\"airports/{airports}/flights\",\n",
    "        params=payload, headers=auth_header)\n",
    "\n",
    "    if response.status_code == 200:\n",
    "        airport_output = response.json()\n",
    "    else:\n",
    "       return(\"Error executing request\")\n",
    "\n",
    "    airport_arrivals = pd.json_normalize(airport_output['arrivals'])\n",
    "    airport_arrivals_cleaned=airport_arrivals[[\"ident_icao\",\"operator\",\"departure_delay\",\"arrival_delay\",\"aircraft_type\",\"route_distance\",\"origin.code_icao\",\"destination.code_icao\"]]\n",
    "    return airport_arrivals_cleaned\n",
    "def get_historical_flight(callsign):\n",
    "    apiKey = \"gQvOAvCu725jH4VcgCA300hbQJNwFfz2\"\n",
    "    apiUrl = \"https://aeroapi.flightaware.com/aeroapi/\"\n",
    "\n",
    "    flight = str(callsign)\n",
    "    current_utc_time = datetime.datetime.utcnow() - datetime.timedelta(days=1)\n",
    "    utc = current_utc_time.strftime(\"%Y-%m-%dT%H:%M:%SZ\")\n",
    "    T_15 = current_utc_time - datetime.timedelta(days=7)\n",
    "    utc_1 = T_15.strftime(\"%Y-%m-%dT%H:%M:%SZ\")\n",
    "    payload = {'max_pages': 4,'start':utc_1,'end':utc}\n",
    "    auth_header = {'x-apikey':apiKey}\n",
    "\n",
    "    response = requests.get(apiUrl + f\"flights/{flight}\",\n",
    "        params=payload, headers=auth_header)\n",
    "\n",
    "    if response.status_code == 200:\n",
    "        output = response.json()\n",
    "        return output\n",
    "    else:\n",
    "        return(\"Error executing request\")"
   ]
  },
  {
   "cell_type": "code",
   "execution_count": null,
   "metadata": {},
   "outputs": [],
   "source": [
    "target_flight = input('Input flight callsign. e.g.\"UAL1\"')\n",
    "flightdata = getflight(target_flight)\n",
    "flight = pd.json_normalize(flightdata['flights'])\n",
    "airline = flight['operator_icao'][0]\n",
    "departure_delay = flight['departure_delay'][0]\n",
    "aircraft = flight['aircraft_type'][0]\n",
    "dist = flight['route_distance'][0]\n",
    "origin = flight['origin.code_icao'][0]\n",
    "destination = flight['destination.code_icao'][0]\n",
    "print(origin)\n",
    "historical_data = get_historical_flight(target_flight)\n",
    "print(historical_data)\n"
   ]
  },
  {
   "cell_type": "code",
   "execution_count": null,
   "metadata": {},
   "outputs": [],
   "source": [
    "historical_flight = pd.json_normalize(historical_data['flights'])\n",
    "historical_airline = historical_flight['operator_icao']\n",
    "historical_departure_delay = historical_flight['departure_delay']\n",
    "historical_arrival_delay = historical_flight['arrival_delay']\n",
    "historical_aircraft = historical_flight['aircraft_type']\n",
    "historical_dist = historical_flight['route_distance']\n",
    "historical_origin = historical_flight['origin.code_icao']\n",
    "historical_destination = historical_flight['destination.code_icao']\n",
    "flight_requested_historical = pd.DataFrame({'operator':historical_airline,'departure_delay':historical_departure_delay,'aircraft_type':historical_aircraft,'route_distance':historical_dist,'origin.code_icao':historical_origin,'destination.code_icao':historical_destination,'arrival_delay':historical_arrival_delay})\n",
    "print(flight_requested_historical)"
   ]
  },
  {
   "cell_type": "code",
   "execution_count": null,
   "metadata": {},
   "outputs": [],
   "source": [
    "flight_requested = pd.DataFrame({'operator': [airline], 'departure_delay': [departure_delay], 'aircraft_type': [aircraft], 'route_distance': [dist], 'origin.code_icao': [origin], 'destination.code_icao': [destination], 'arrival_delay': [0]})\n",
    "print(flight_requested)\n",
    "airline = str(airline)\n",
    "output = getdata(airline)\n",
    "scheduled = pd.json_normalize(output['scheduled'])\n",
    "arrivals = pd.json_normalize(output['arrivals'])\n",
    "arrivals_cleaned = pd.concat([flight_requested, arrivals[[\"ident_icao\",\"operator\",\"departure_delay\",\"arrival_delay\",\"aircraft_type\",\"route_distance\",\"origin.code_icao\",\"destination.code_icao\"]]])  # Fixed the syntax error here\n",
    "destination_airport = get_airport_arrivals(destination)\n",
    "arrivals_cleaned = pd.concat([arrivals_cleaned, destination_airport])\n",
    "arrivals_cleaned = pd.concat([arrivals_cleaned, flight_requested_historical])\n",
    "numeric_cols = arrivals_cleaned.select_dtypes(include=[int, float])\n",
    "arrivals_cleaned[numeric_cols.columns] = numeric_cols.fillna(numeric_cols.mean())\n",
    "arrivals_cleaned = arrivals_cleaned.fillna('Unknown')\n",
    "\n",
    "X = arrivals_cleaned[[\"operator\",\"departure_delay\",\"aircraft_type\",\"route_distance\",\"origin.code_icao\",\"destination.code_icao\"]]\n",
    "y = arrivals_cleaned['arrival_delay']\n",
    "\n",
    "tokenizer = Tokenizer(num_words=10000)\n",
    "tokenizer.fit_on_texts(X['operator'])\n",
    "sequences = tokenizer.texts_to_sequences(X['operator'])\n",
    "max_sequence_length = 20\n",
    "padded_sequences = pad_sequences(sequences, maxlen=max_sequence_length, padding='post', truncating='post')\n",
    "sequences = np.array(sequences)\n",
    "X['operator'] = sequences\n",
    "tokenizer.fit_on_texts(X['aircraft_type'])\n",
    "sequences = tokenizer.texts_to_sequences(X['aircraft_type'])\n",
    "max_sequence_length = 20\n",
    "padded_sequences = pad_sequences(sequences, maxlen=max_sequence_length, padding='post', truncating='post')\n",
    "sequences = np.array(sequences)\n",
    "X['aircraft_type'] = sequences\n",
    "tokenizer.fit_on_texts(X['origin.code_icao'])\n",
    "sequences = tokenizer.texts_to_sequences(X['origin.code_icao'])\n",
    "max_sequence_length = 20\n",
    "padded_sequences = pad_sequences(sequences, maxlen=max_sequence_length, padding='post', truncating='post')\n",
    "sequences = np.array(sequences)\n",
    "X['origin.code_icao'] = sequences\n",
    "tokenizer.fit_on_texts(X['destination.code_icao'])\n",
    "sequences = tokenizer.texts_to_sequences(X['destination.code_icao'])\n",
    "max_sequence_length = 20\n",
    "padded_sequences = pad_sequences(sequences, maxlen=max_sequence_length, padding='post', truncating='post')\n",
    "sequences = np.array(sequences)\n",
    "X['destination.code_icao'] = sequences\n",
    "X_train, X_test, y_train, y_test = train_test_split(X, y, test_size=0.2, random_state=42)\n",
    "scaler = StandardScaler()\n",
    "X_train = scaler.fit_transform(X_train)\n",
    "X_test = scaler.transform(X_test)\n",
    "model = Sequential()\n",
    "model.add(Dense(units=64, activation='relu', input_dim=6))  # Input layer with 6 features\n",
    "model.add(Dense(units=32, activation='relu'))\n",
    "model.add(Dense(units=1, activation='linear'))  # Output layer for regression\n",
    "model.compile(optimizer='adam', loss='mean_squared_error')  # Use an appropriate loss function for your task\n",
    "model.fit(X_train, y_train, epochs=1500, batch_size=32, validation_data=(X_test, y_test))\n",
    "loss = model.evaluate(X_test, y_test)\n",
    "print(f\"Test Loss: {loss}\")\n",
    "y_pred = model.predict(X_test)\n"
   ]
  },
  {
   "cell_type": "code",
   "execution_count": null,
   "metadata": {},
   "outputs": [],
   "source": [
    "print(arrivals_cleaned)"
   ]
  },
  {
   "cell_type": "code",
   "execution_count": null,
   "metadata": {},
   "outputs": [],
   "source": [
    "print(y_pred)"
   ]
  },
  {
   "cell_type": "code",
   "execution_count": null,
   "metadata": {},
   "outputs": [],
   "source": [
    "print(y_test)"
   ]
  },
  {
   "cell_type": "code",
   "execution_count": null,
   "metadata": {},
   "outputs": [],
   "source": [
    "print(X_test)"
   ]
  },
  {
   "cell_type": "code",
   "execution_count": null,
   "metadata": {},
   "outputs": [],
   "source": [
    "flight_requested = pd.DataFrame({'operator':[airline],'departure_delay':[departure_delay],'aircraft_type':[aircraft],'route_distance':[dist],'origin.code_icao':[origin],'destination.code_icao':[destination],'arrival_delay':[0]})\n",
    "print(flight_requested)\n"
   ]
  },
  {
   "cell_type": "code",
   "execution_count": null,
   "metadata": {},
   "outputs": [],
   "source": [
    "flight_to_predict = scaler.fit_transform(X)\n",
    "ETA = model.predict(flight_to_predict)\n",
    "print(\"The estimated delay of this flight, in seconds, is:\",ETA[0][0])"
   ]
  },
  {
   "cell_type": "markdown",
   "metadata": {},
   "source": []
  },
  {
   "cell_type": "code",
   "execution_count": null,
   "metadata": {},
   "outputs": [],
   "source": [
    "ETA_new = []\n",
    "for i in range(len(ETA)):\n",
    "    ETA_new.append(ETA[i][0])\n",
    "ATA = arrivals_cleaned['arrival_delay']\n",
    "plt.scatter(ATA,ETA_new)\n",
    "plt.xlabel='Actual Delay'\n",
    "plt.ylabel='Estimated Delay'\n"
   ]
  }
 ],
 "metadata": {
  "kernelspec": {
   "display_name": "base",
   "language": "python",
   "name": "python3"
  },
  "language_info": {
   "codemirror_mode": {
    "name": "ipython",
    "version": 3
   },
   "file_extension": ".py",
   "mimetype": "text/x-python",
   "name": "python",
   "nbconvert_exporter": "python",
   "pygments_lexer": "ipython3",
   "version": "3.10.13"
  }
 },
 "nbformat": 4,
 "nbformat_minor": 2
}
